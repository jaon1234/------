{
 "cells": [
  {
   "attachments": {},
   "cell_type": "markdown",
   "metadata": {},
   "source": [
    "1. 数据结构的存储方式只有两种：数组（顺序存储）和链表（链式存储）。\n",
    "2. 从最高层来看，各种数据结构的遍历 + 访问无非两种形式：线性的和非线性的。\n",
    "   1. 线性就是 for/while 迭代为代表，非线性就是递归为代表。再具体一步，无非以下几种框架：\n",
    "   2. 数组遍历框架，典型的线性迭代结构："
   ]
  },
  {
   "attachments": {},
   "cell_type": "markdown",
   "metadata": {},
   "source": [
    "思考一个问题，递归的本质是在干什么？？"
   ]
  },
  {
   "attachments": {},
   "cell_type": "markdown",
   "metadata": {},
   "source": [
    "通过下面的例子来进一步了解递归"
   ]
  },
  {
   "cell_type": "code",
   "execution_count": null,
   "metadata": {},
   "outputs": [],
   "source": [
    "# 使用递归对列表求和\n",
    "arr  = [1,2,3,4,5,6,7,8,9]\n",
    "\n",
    "def sum(arr):\n",
    "    # 声明基线条件\n",
    "    if len(arr) < 1:\n",
    "        return 0\n",
    "    #递归\n",
    "    # 取列表的第一个数\n",
    "    part = arr[0]\n",
    "    # 返回当前数+之后的数\n",
    "    return part + sum(arr[1:])\n",
    "\n",
    "print(sum(arr))"
   ]
  },
  {
   "cell_type": "code",
   "execution_count": null,
   "metadata": {},
   "outputs": [],
   "source": [
    "# 使用查找列表的元素个数\n",
    "arr  = [1,2,3,4,5,6,7,8,9]\n",
    "\n",
    "def sum(arr):\n",
    "    # 声明基线条件\n",
    "    if len(arr) < 1:\n",
    "        return 0\n",
    "    # 返回当前计数+之后的数的元素计数\n",
    "    return 1 + sum(arr[1:])\n",
    "\n",
    "print(sum(arr))"
   ]
  },
  {
   "cell_type": "code",
   "execution_count": null,
   "metadata": {},
   "outputs": [],
   "source": [
    "# 使用查找列表的元素个数\n",
    "arr  = [1,2,3,4,5,6,7,8,9]\n",
    "res = -float(\"inf\")-1\n",
    "def sum(arr):\n",
    "    global res\n",
    "    # 声明基线条件\n",
    "    if len(arr) < 1:\n",
    "        return 0\n",
    "    # 记录当前的最大数\n",
    "    res = max(arr[0],res)\n",
    "    sum(arr[1:])\n",
    "sum(arr)\n",
    "print(res)"
   ]
  },
  {
   "cell_type": "code",
   "execution_count": null,
   "metadata": {},
   "outputs": [],
   "source": [
    "# 使用递归实现二查找\n",
    "arr = [1,2,3,4,5,6,7,7,7,8,9,]\n",
    "arr = sorted(arr)\n",
    "item = 7\n",
    "result = []\n",
    "def divide(left_index,right_index):\n",
    "    if left_index >= right_index:\n",
    "        return None\n",
    "    \n",
    "    # 获取当前的索引\n",
    "    m_index = int((left_index+right_index)/2)\n",
    "\n",
    "    if item < arr[m_index]:\n",
    "        left_index = left_index\n",
    "        right_index = m_index -1\n",
    "    elif item > arr[m_index]:\n",
    "        left_index = m_index+1\n",
    "        right_index = right_index\n",
    "    else:\n",
    "        return m_index\n",
    "\n",
    "    return divide(left_index,right_index)\n",
    "divide(0,len(arr)-1)"
   ]
  },
  {
   "cell_type": "code",
   "execution_count": null,
   "metadata": {},
   "outputs": [],
   "source": [
    "# 快速排序，递归\n",
    "def quickSort(arr):\n",
    "\n",
    "    if len(arr) < 2:\n",
    "        return arr\n",
    "    pivot = arr[0]\n",
    "    # 找到比这个元素小的\n",
    "    less = [i for i in arr[1:] if i <= arr[0]]\n",
    "    # 找到比这个元素大的\n",
    "    greater = [i for i in arr[1:] if i > arr[0]]\n",
    "\n",
    "    return quickSort(less) +[pivot]+ quickSort(greater)\n",
    "print(quickSort([2,45,2,4563,45643,6,23,1,6,3,6,3,4,7]))"
   ]
  },
  {
   "attachments": {},
   "cell_type": "markdown",
   "metadata": {},
   "source": [
    "# 迭代"
   ]
  },
  {
   "cell_type": "code",
   "execution_count": 9,
   "metadata": {},
   "outputs": [
    {
     "name": "stdout",
     "output_type": "stream",
     "text": [
      "['alice', 'bob', 'claire', 'peggy', 'anuj', 'thom']\n",
      "['you', 'you', 'you', 'alice', 'bob', 'claire']\n",
      "thom\n",
      "claire\n",
      "you\n",
      "you\n"
     ]
    },
    {
     "data": {
      "text/plain": [
       "True"
      ]
     },
     "execution_count": 9,
     "metadata": {},
     "output_type": "execute_result"
    }
   ],
   "source": [
    "# 迭代，队列篇\n",
    "from collections import deque\n",
    "\n",
    "# 使用字典来表示图\n",
    "graph = {}\n",
    "graph[\"you\"] = [\"alice\",\"bob\",\"claire\"]\n",
    "graph[\"bob\"] = [\"anuj\",\"peggy\"]\n",
    "graph[\"alice\"] = [\"peggy\"]\n",
    "graph[\"claire\"] = [\"thom\",\"jonny\"]\n",
    "graph[\"anuj\"] = []\n",
    "graph[\"peggy\"] = []\n",
    "graph[\"thom\"] = []\n",
    "graph[\"jonny\"] = []\n",
    "def search(name):\n",
    "    global graph\n",
    "    # 创建一个队列，用于添加清单\n",
    "    search_queue = deque()\n",
    "    # 添加开始节点下面的名字清单，以及其父亲\n",
    "    search_queue.extend([(name,i) for i in graph[name]])\n",
    "    # 创建一个已经搜索过的名单列表\n",
    "    searched = []\n",
    "    searched_father = []\n",
    "\n",
    "    # 下面开始迭代队列，搜索\n",
    "    while search_queue:\n",
    "        # 取出这个名字,\n",
    "        name = search_queue.popleft()\n",
    "        # 如果名字检索过了，跳转到下一个\n",
    "        if name[1] in searched:\n",
    "            continue\n",
    "        # 把当前这个人加入到已经迭代的队列中\n",
    "        searched.append(name[1])\n",
    "        searched_father.append(name[0])\n",
    "        # 判断这个人是不是指定的人\n",
    "        if name[1][-1] == \"m\":\n",
    "            print(searched)\n",
    "            print(searched_father)\n",
    "            print(name[1])\n",
    "            # 下面开始回溯\n",
    "            node_dic = {}\n",
    "            for i in range(len(searched)):\n",
    "                node_dic[searched[i]] = i\n",
    "            # 父节点\n",
    "            print(name[0])\n",
    "            # 获取父节点的父节点的索引\n",
    "            fatherIndex = node_dic[name[0]]\n",
    "            print(searched_father[fatherIndex])\n",
    "            while True:\n",
    "                if searched_father[fatherIndex] == \"you\":\n",
    "                    print(searched_father[fatherIndex])\n",
    "                    break\n",
    "                else:\n",
    "                    fatherIndex = node_dic[fatherIndex]\n",
    "                    print(searched_father[fatherIndex])\n",
    "            return True\n",
    "        else:\n",
    "            # 如果不是，将他及他的朋友们\n",
    "            search_queue.extend((name[1],i) for i in graph[name[1]])\n",
    "    return False\n",
    "\n",
    "search(\"you\")\n"
   ]
  }
 ],
 "metadata": {
  "kernelspec": {
   "display_name": "base",
   "language": "python",
   "name": "python3"
  },
  "language_info": {
   "codemirror_mode": {
    "name": "ipython",
    "version": 3
   },
   "file_extension": ".py",
   "mimetype": "text/x-python",
   "name": "python",
   "nbconvert_exporter": "python",
   "pygments_lexer": "ipython3",
   "version": "3.8.10"
  },
  "orig_nbformat": 4
 },
 "nbformat": 4,
 "nbformat_minor": 2
}
