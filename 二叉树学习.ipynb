{
 "cells": [
  {
   "attachments": {},
   "cell_type": "markdown",
   "metadata": {},
   "source": [
    "# 给定n个节点，可以建立多少棵二叉树？"
   ]
  },
  {
   "attachments": {},
   "cell_type": "markdown",
   "metadata": {},
   "source": [
    "分析，当n=1时，只有一种情况，即：f(1)=1，当n=2时，有两种情况,f(2)=2；当n=3时，如下考虑：\n",
    "1. 左边分配0个节点，右边分配两个，这种分配模式下构成的建树方案为f(0)*f(2)=2\n",
    "2. 左边分配一个，右边分配一个，有：f(1)*f(1)=1\n",
    "3. 左边分配两个，右边分配0个，有：f(2)*f(0)=1\n",
    "......\n",
    "以此类推，当有n个节点时，首先取一个节点作为根节点，然后分别给左子树分配：0,...,(n-1)个节点，对应每种分配模式下的建树方案有：\n",
    "1. 左子树为0：f(0)*f(n-1);\n",
    "2. 左子树为1：f(1)*f(n-1-1);\n",
    "3. ...\n",
    "4. 左子树为n-2:f(n-2)*f(1);\n",
    "5. 左子树为n-1:f(n-1)*f(0)；\n",
    "将上述结果求和，可得到总的分配方案：\n",
    "- sum[f(0)*f(n-1)+f(1)*f(n-1-1)+...+f(n-2)*f(1)+f(n-1)*f(0)]\n",
    "将f(n)改成成了g(f(n-1))的形式，所以考虑递归的方式；\n",
    "</br>\n",
    "\n",
    "- 递归的表达式为：\n",
    "f(n) = sum[f(0)*f(n-1)+f(1)*f(n-1-1)+...+f(n-2)*f(1)+f(n-1)*f(0)]\n",
    "- 初始条件为：f(0) = 1,f(1) = 1（后面这个也可以不要，因为它满足上面的递归式）"
   ]
  },
  {
   "cell_type": "code",
   "execution_count": 4,
   "metadata": {},
   "outputs": [
    {
     "name": "stdout",
     "output_type": "stream",
     "text": [
      "9694845\n"
     ]
    }
   ],
   "source": [
    "def count(n):\n",
    "    # 下面是对初始条件的实现\n",
    "    if n== 0:\n",
    "        return 1\n",
    "    # 下面是对上述数学表达式的实现\n",
    "    types = 0\n",
    "    for i in range(0,n):\n",
    "        types += count(i)*count(n-1-i)\n",
    "    return types\n",
    "print(count(15))"
   ]
  },
  {
   "attachments": {},
   "cell_type": "markdown",
   "metadata": {},
   "source": [
    "进一步思考，该迭代存在count(i)被调用两次的问题，会增加算法的时间复杂度，因此，可以考虑使用缓存，将结果进行缓存"
   ]
  },
  {
   "cell_type": "code",
   "execution_count": 5,
   "metadata": {},
   "outputs": [
    {
     "name": "stdout",
     "output_type": "stream",
     "text": [
      "9694845\n"
     ]
    }
   ],
   "source": [
    "def count(n):\n",
    "    global memo\n",
    "    # 下面是对初始条件的实现\n",
    "    if n== 0:\n",
    "        return 1\n",
    "    # 下面是对上述数学表达式的实现\n",
    "    # 先判断缓存中有没有，有的话直接返回\n",
    "    types = memo.get(n,None)\n",
    "    if types!= None:\n",
    "        return types\n",
    "    types = 0\n",
    "    for i in range(0,n):\n",
    "        types += count(i)*count(n-1-i)\n",
    "    # 将计算结果写入缓存\n",
    "    memo[n] = types\n",
    "    return types\n",
    "memo = {}\n",
    "print(count(15))"
   ]
  },
  {
   "attachments": {},
   "cell_type": "markdown",
   "metadata": {},
   "source": [
    "# 二叉树的构造"
   ]
  },
  {
   "cell_type": "code",
   "execution_count": 2,
   "metadata": {},
   "outputs": [],
   "source": [
    "class TreeNode(object):\n",
    "    def __init__(self,data,left=None,right=None) -> None:\n",
    "        self.data = data\n",
    "        self.left = left # 左子树\n",
    "        self.right = right # 右子树\n",
    "    \n",
    "    def __str__(self) -> str:\n",
    "        return str(self.data)\n",
    "\n",
    "A,B,C,D,E = [TreeNode(i) for i in \"ABCDE\"]\n",
    "A.left = B\n",
    "B.right = C\n",
    "C.left = D\n",
    "D.right = E\n"
   ]
  },
  {
   "attachments": {},
   "cell_type": "markdown",
   "metadata": {},
   "source": [
    "# 二叉树的遍历"
   ]
  },
  {
   "cell_type": "code",
   "execution_count": 3,
   "metadata": {},
   "outputs": [],
   "source": [
    "class TreeTraverse(object):\n",
    "    def __init__(self,head:TreeNode) -> None:\n",
    "        self.head = head\n",
    "        self.__rsult = []\n",
    "\n",
    "    # 先序遍历:DLR,根节点->左节点->右节点\n",
    "    def __DLR(self,node:TreeNode):\n",
    "        if node == None:\n",
    "            return\n",
    "        else:\n",
    "            # 访问根(当前)节点\n",
    "            self.__result.append(node.data)\n",
    "            # 访问左子树\n",
    "            self.__DLR(node.left)\n",
    "            # 访问右子树\n",
    "            self.__DLR(node.right)\n",
    "    # 先序遍历:DLR,根节点->左节点->右节点\n",
    "    def get_DLR(self):\n",
    "        self.__result = []\n",
    "        self.__DLR(self.head)\n",
    "        return self.__result\n",
    "    \n",
    "    # 中序遍历，LDR，左节点，根节点，右节点\n",
    "    def __LDR(self,node:TreeNode):\n",
    "        if node == None:\n",
    "            return\n",
    "        else:\n",
    "            # 访问左边的节点\n",
    "            self.__LDR(node.left)\n",
    "            # 访问根(当前)节点\n",
    "            self.__result.append(node.data)\n",
    "            # 访问右边的节点\n",
    "            self.__LDR(node.right)\n",
    "    # 中序遍历，LDR，左节点，根节点，右节点\n",
    "    def get_LDR(self):\n",
    "         # 中序遍历,左节点，根节点，右节点\n",
    "        self.__result = []\n",
    "        self.__LDR(self.head)\n",
    "        return self.__result\n",
    "    \n",
    "\n",
    "    def __LRD(self,node:TreeNode):\n",
    "        if node == None:\n",
    "            return\n",
    "        else:\n",
    "            # 访问左节点\n",
    "            self.__LRD(node.left)\n",
    "            # 访问右节点\n",
    "            self.__LRD(node.right)\n",
    "            # 访问根节点\n",
    "            self.__result.append(node.data)\n",
    "    # 后序遍历，LRD，左节点，右节点，根节点\n",
    "    def get_LRD(self):\n",
    "         # 后序遍历，LRD，左节点，右节点，根节点\n",
    "        self.__result = []\n",
    "        self.__LRD(self.head)\n",
    "        return self.__result"
   ]
  },
  {
   "cell_type": "code",
   "execution_count": 4,
   "metadata": {},
   "outputs": [
    {
     "name": "stdout",
     "output_type": "stream",
     "text": [
      "先序遍历结果为: ['A', 'B', 'C', 'D', 'E']\n",
      "中序遍历结果为: ['B', 'D', 'E', 'C', 'A']\n",
      "后序遍历结果为: ['E', 'D', 'C', 'B', 'A']\n"
     ]
    }
   ],
   "source": [
    "treeTraverse = TreeTraverse(A)\n",
    "# 线序遍历\n",
    "print(\"先序遍历结果为:\",treeTraverse.get_DLR())\n",
    "print(\"中序遍历结果为:\",treeTraverse.get_LDR())\n",
    "print(\"后序遍历结果为:\",treeTraverse.get_LRD())"
   ]
  },
  {
   "cell_type": "code",
   "execution_count": 16,
   "metadata": {},
   "outputs": [
    {
     "name": "stdout",
     "output_type": "stream",
     "text": [
      "['A']\n",
      "['B', 'C']\n",
      "['D', 'E', 'F']\n",
      "['G', 'H', 'I']\n"
     ]
    }
   ],
   "source": [
    "queue = []\n",
    "queue.append(A)\n",
    "import copy\n",
    "while len(queue) > 0:\n",
    "    # 获取上一层的元素\n",
    "    preItem = copy.deepcopy(queue)\n",
    "    print([str(pre) for pre in preItem ])\n",
    "    # 清空queue\n",
    "    queue = []\n",
    "    # 在queue中添加下一层的元素\n",
    "    for i in preItem:\n",
    "        if i.left != None:\n",
    "            queue.append(i.left)\n",
    "        if i.right != None:\n",
    "            queue.append(i.right)"
   ]
  },
  {
   "cell_type": "code",
   "execution_count": 17,
   "metadata": {},
   "outputs": [
    {
     "name": "stdout",
     "output_type": "stream",
     "text": [
      "A\n",
      "B\n",
      "C\n",
      "D\n",
      "E\n",
      "F\n",
      "G\n",
      "H\n",
      "I\n"
     ]
    }
   ],
   "source": [
    "# 设计一个队列，先进先出，出队的时候，同时添加子节点。\n",
    "from collections import deque # 双头队列\n",
    "def levelOrder(head):\n",
    "    q = deque([head])\n",
    "    while q:\n",
    "        # 出队\n",
    "        node = q.popleft()\n",
    "        print(node)\n",
    "        # 添加其子节点，若存在\n",
    "        if node.left:\n",
    "            q.append(node.left)\n",
    "        if node.right:\n",
    "            q.append(node.right)\n",
    "levelOrder(A)\n"
   ]
  },
  {
   "attachments": {},
   "cell_type": "markdown",
   "metadata": {},
   "source": [
    "# 二叉树的深度"
   ]
  },
  {
   "cell_type": "code",
   "execution_count": 2,
   "metadata": {},
   "outputs": [],
   "source": [
    "# 递归的思想，分而治之，给定当前节点，取左右最大的加1即可\n",
    "def depthTree(node):\n",
    "    if node == None:\n",
    "        return 0\n",
    "    \n",
    "    # 其左节点的深度\n",
    "    leftDep = depthTree(node.left)\n",
    "    # 其右节点的深度\n",
    "    rightDep = depthTree(node.right)\n",
    "    # 当前节点的深度\n",
    "    return max(rightDep,leftDep)+1\n"
   ]
  },
  {
   "cell_type": "code",
   "execution_count": 3,
   "metadata": {},
   "outputs": [
    {
     "name": "stdout",
     "output_type": "stream",
     "text": [
      "4\n"
     ]
    }
   ],
   "source": [
    "print(depthTree(A))"
   ]
  },
  {
   "cell_type": "code",
   "execution_count": 12,
   "metadata": {},
   "outputs": [
    {
     "name": "stdout",
     "output_type": "stream",
     "text": [
      "4\n"
     ]
    }
   ],
   "source": [
    "# 迭代的思想，层次遍历\n",
    "from collections import deque\n",
    "\n",
    "# 设计一个队列，上一层出队的时候，加入下一层，同时加入下一层的深度\n",
    "queue = deque()\n",
    "d = 1 # 表示深度\n",
    "queue.append([A,d])\n",
    "while queue:# 若队列不为空，则继续出队\n",
    "    node,d = queue.popleft() # 先进先出，并且同时获得深度\n",
    "    # 将当前节点的子节点入队,同时记录其节点深度\n",
    "    if node.left:\n",
    "        queue.append([node.left,d+1])\n",
    "    if node.right:\n",
    "        queue.append([node.right,d+1])\n",
    "print(d)\n"
   ]
  },
  {
   "attachments": {},
   "cell_type": "markdown",
   "metadata": {},
   "source": [
    "# 二叉树的拷贝"
   ]
  },
  {
   "cell_type": "code",
   "execution_count": 27,
   "metadata": {},
   "outputs": [],
   "source": [
    "# 递归思想，给定当前节点，拷贝其左子树，在拷贝其右子树，然后根据当前节点生成新树\n",
    "def copyTree(node):\n",
    "    # 递归的终止条件，当到达的节点为Node的时候（也就是叶子结点之后的空节点）\n",
    "    if node == None:\n",
    "        return None\n",
    "    # 拷贝左子树\n",
    "    left = copyTree(node.left)\n",
    "    # 拷贝右子树\n",
    "    right = copyTree(node.right)\n",
    "\n",
    "    return TreeNode(node.data,left,right)"
   ]
  },
  {
   "cell_type": "code",
   "execution_count": 28,
   "metadata": {},
   "outputs": [
    {
     "name": "stdout",
     "output_type": "stream",
     "text": [
      "先序遍历结果为: ['A', 'B', 'D', 'C', 'E', 'G', 'F', 'H', 'I']\n",
      "中序遍历结果为: ['B', 'D', 'A', 'G', 'E', 'C', 'H', 'F', 'I']\n",
      "后序遍历结果为: ['D', 'B', 'G', 'E', 'H', 'I', 'F', 'C', 'A']\n"
     ]
    }
   ],
   "source": [
    "treeTraverse = TreeTraverse(A)\n",
    "# \n",
    "print(\"先序遍历结果为:\",treeTraverse.get_DLR())\n",
    "print(\"中序遍历结果为:\",treeTraverse.get_LDR())\n",
    "print(\"后序遍历结果为:\",treeTraverse.get_LRD())"
   ]
  },
  {
   "cell_type": "code",
   "execution_count": 30,
   "metadata": {},
   "outputs": [
    {
     "name": "stdout",
     "output_type": "stream",
     "text": [
      "先序遍历结果为: ['A', 'B', 'D', 'C', 'E', 'G', 'F', 'H', 'I']\n",
      "中序遍历结果为: ['B', 'D', 'A', 'G', 'E', 'C', 'H', 'F', 'I']\n",
      "后序遍历结果为: ['D', 'B', 'G', 'E', 'H', 'I', 'F', 'C', 'A']\n"
     ]
    }
   ],
   "source": [
    "newTree = copyTree(A)\n",
    "treeTraverse = TreeTraverse(newTree)\n",
    "print(\"先序遍历结果为:\",treeTraverse.get_DLR())\n",
    "print(\"中序遍历结果为:\",treeTraverse.get_LDR())\n",
    "print(\"后序遍历结果为:\",treeTraverse.get_LRD())"
   ]
  }
 ],
 "metadata": {
  "kernelspec": {
   "display_name": "base",
   "language": "python",
   "name": "python3"
  },
  "language_info": {
   "codemirror_mode": {
    "name": "ipython",
    "version": 3
   },
   "file_extension": ".py",
   "mimetype": "text/x-python",
   "name": "python",
   "nbconvert_exporter": "python",
   "pygments_lexer": "ipython3",
   "version": "3.8.10"
  },
  "orig_nbformat": 4
 },
 "nbformat": 4,
 "nbformat_minor": 2
}
